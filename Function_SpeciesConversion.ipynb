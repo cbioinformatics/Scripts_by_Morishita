{
 "cells": [
  {
   "cell_type": "markdown",
   "metadata": {},
   "source": [
    "# Function for gene symbol conversion among speices"
   ]
  },
  {
   "cell_type": "markdown",
   "metadata": {},
   "source": [
    "## 1. input"
   ]
  },
  {
   "cell_type": "code",
   "execution_count": 1,
   "metadata": {},
   "outputs": [],
   "source": [
    "data <- read.csv(\"upDEG.csv\", header = TRUE)[,1]"
   ]
  },
  {
   "cell_type": "markdown",
   "metadata": {},
   "source": [
    "## 2. define function"
   ]
  },
  {
   "cell_type": "code",
   "execution_count": 2,
   "metadata": {},
   "outputs": [],
   "source": [
    "#conversion(gene list, species before, species after)\n",
    "#species: mouse or human\n",
    "conversion <- function(geneList, from, to){\n",
    "    require(\"biomaRt\")\n",
    "    db <- useMart(\"ENSEMBL_MART_ENSEMBL\")\n",
    "    MMusculs <- c(\"mmusculus_gene_ensembl\", \"mgi_symbol\")\n",
    "    Hsapiens <- c(\"hsapiens_gene_ensembl\", \"hgnc_symbol\")\n",
    "    before <- switch(\n",
    "        from,\n",
    "        \"mouse\" = MMusculs,\n",
    "        \"human\" = Hsapiens,\n",
    "        stop('\"mouse\" or \"human\" is allowed argument as species.')\n",
    "    )\n",
    "    after <- switch(\n",
    "        to,\n",
    "        \"mouse\" = MMusculs,\n",
    "        \"human\" = Hsapiens,\n",
    "        stop('\"mouse\" or \"human\" is allowed argument as species.')\n",
    "    )\n",
    "    before_dataset <- useDataset(before[1], mart = db)\n",
    "    after_dataset <- useDataset(after[1], mart = db)\n",
    "    geneList_after <- getLDS(\n",
    "        attributes = c(before[2]),\n",
    "        filters = before[2],\n",
    "        values = geneList,\n",
    "        mart = before_dataset,\n",
    "        attributesL = c(after[2]),\n",
    "        martL = after_dataset,\n",
    "        uniqueRows = T\n",
    "    )\n",
    "    \n",
    "    return(geneList_after)\n",
    "}"
   ]
  },
  {
   "cell_type": "markdown",
   "metadata": {},
   "source": [
    "## 3. example"
   ]
  },
  {
   "cell_type": "code",
   "execution_count": 3,
   "metadata": {},
   "outputs": [
    {
     "name": "stderr",
     "output_type": "stream",
     "text": [
      "Loading required package: biomaRt\n",
      "\n",
      "Ensembl site unresponsive, trying useast mirror\n",
      "\n"
     ]
    },
    {
     "data": {
      "text/html": [
       "<table>\n",
       "<caption>A data.frame: 6 × 2</caption>\n",
       "<thead>\n",
       "\t<tr><th></th><th scope=col>MGI.symbol</th><th scope=col>HGNC.symbol</th></tr>\n",
       "\t<tr><th></th><th scope=col>&lt;chr&gt;</th><th scope=col>&lt;chr&gt;</th></tr>\n",
       "</thead>\n",
       "<tbody>\n",
       "\t<tr><th scope=row>1</th><td>Clec4a3  </td><td>CLEC4C  </td></tr>\n",
       "\t<tr><th scope=row>2</th><td>Cbln1    </td><td>CBLN1   </td></tr>\n",
       "\t<tr><th scope=row>3</th><td>Tex11    </td><td>TEX11   </td></tr>\n",
       "\t<tr><th scope=row>4</th><td>Serpina3k</td><td>SERPINA3</td></tr>\n",
       "\t<tr><th scope=row>5</th><td>Kcnv1    </td><td>KCNV1   </td></tr>\n",
       "\t<tr><th scope=row>6</th><td>Elavl2   </td><td>ELAVL2  </td></tr>\n",
       "</tbody>\n",
       "</table>\n"
      ],
      "text/latex": [
       "A data.frame: 6 × 2\n",
       "\\begin{tabular}{r|ll}\n",
       "  & MGI.symbol & HGNC.symbol\\\\\n",
       "  & <chr> & <chr>\\\\\n",
       "\\hline\n",
       "\t1 & Clec4a3   & CLEC4C  \\\\\n",
       "\t2 & Cbln1     & CBLN1   \\\\\n",
       "\t3 & Tex11     & TEX11   \\\\\n",
       "\t4 & Serpina3k & SERPINA3\\\\\n",
       "\t5 & Kcnv1     & KCNV1   \\\\\n",
       "\t6 & Elavl2    & ELAVL2  \\\\\n",
       "\\end{tabular}\n"
      ],
      "text/markdown": [
       "\n",
       "A data.frame: 6 × 2\n",
       "\n",
       "| <!--/--> | MGI.symbol &lt;chr&gt; | HGNC.symbol &lt;chr&gt; |\n",
       "|---|---|---|\n",
       "| 1 | Clec4a3   | CLEC4C   |\n",
       "| 2 | Cbln1     | CBLN1    |\n",
       "| 3 | Tex11     | TEX11    |\n",
       "| 4 | Serpina3k | SERPINA3 |\n",
       "| 5 | Kcnv1     | KCNV1    |\n",
       "| 6 | Elavl2    | ELAVL2   |\n",
       "\n"
      ],
      "text/plain": [
       "  MGI.symbol HGNC.symbol\n",
       "1 Clec4a3    CLEC4C     \n",
       "2 Cbln1      CBLN1      \n",
       "3 Tex11      TEX11      \n",
       "4 Serpina3k  SERPINA3   \n",
       "5 Kcnv1      KCNV1      \n",
       "6 Elavl2     ELAVL2     "
      ]
     },
     "metadata": {},
     "output_type": "display_data"
    }
   ],
   "source": [
    "result <- conversion(data, \"mouse\", \"human\")\n",
    "head(result)"
   ]
  },
  {
   "cell_type": "code",
   "execution_count": null,
   "metadata": {},
   "outputs": [],
   "source": []
  }
 ],
 "metadata": {
  "kernelspec": {
   "display_name": "R",
   "language": "R",
   "name": "ir"
  },
  "language_info": {
   "codemirror_mode": "r",
   "file_extension": ".r",
   "mimetype": "text/x-r-source",
   "name": "R",
   "pygments_lexer": "r",
   "version": "4.0.0"
  }
 },
 "nbformat": 4,
 "nbformat_minor": 4
}
